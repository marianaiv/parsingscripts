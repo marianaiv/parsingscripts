{
 "cells": [
  {
   "cell_type": "code",
   "execution_count": 3,
   "metadata": {},
   "outputs": [
    {
     "name": "stdout",
     "output_type": "stream",
     "text": [
      "WARNING: pip is being invoked by an old script wrapper. This will fail in a future version of pip.\n",
      "Please see https://github.com/pypa/pip/issues/5599 for advice on fixing the underlying issue.\n",
      "To avoid this problem you can invoke Python with '-m pip' instead of running pip directly.\n",
      "Collecting h5py\n",
      "  Downloading h5py-2.10.0-cp37-cp37m-manylinux1_x86_64.whl (2.9 MB)\n",
      "\u001b[K     |████████████████████████████████| 2.9 MB 3.6 MB/s eta 0:00:01\n",
      "\u001b[?25hRequirement already satisfied: six in /srv/conda/envs/notebook/lib/python3.7/site-packages (from h5py) (1.14.0)\n",
      "Collecting numpy>=1.7\n",
      "  Downloading numpy-1.18.1-cp37-cp37m-manylinux1_x86_64.whl (20.1 MB)\n",
      "\u001b[K     |████████████████████████████████| 20.1 MB 63.0 MB/s eta 0:00:01\n",
      "\u001b[?25hInstalling collected packages: numpy, h5py\n",
      "Successfully installed h5py-2.10.0 numpy-1.18.1\n",
      "WARNING: pip is being invoked by an old script wrapper. This will fail in a future version of pip.\n",
      "Please see https://github.com/pypa/pip/issues/5599 for advice on fixing the underlying issue.\n",
      "To avoid this problem you can invoke Python with '-m pip' instead of running pip directly.\n",
      "Requirement already satisfied: numpy in /srv/conda/envs/notebook/lib/python3.7/site-packages (1.18.1)\n",
      "WARNING: pip is being invoked by an old script wrapper. This will fail in a future version of pip.\n",
      "Please see https://github.com/pypa/pip/issues/5599 for advice on fixing the underlying issue.\n",
      "To avoid this problem you can invoke Python with '-m pip' instead of running pip directly.\n",
      "Collecting matplotlib\n",
      "  Downloading matplotlib-3.1.3-cp37-cp37m-manylinux1_x86_64.whl (13.1 MB)\n",
      "\u001b[K     |████████████████████████████████| 13.1 MB 3.4 MB/s eta 0:00:01\n",
      "\u001b[?25hCollecting kiwisolver>=1.0.1\n",
      "  Downloading kiwisolver-1.1.0-cp37-cp37m-manylinux1_x86_64.whl (90 kB)\n",
      "\u001b[K     |████████████████████████████████| 90 kB 10.3 MB/s eta 0:00:01\n",
      "\u001b[?25hRequirement already satisfied: numpy>=1.11 in /srv/conda/envs/notebook/lib/python3.7/site-packages (from matplotlib) (1.18.1)\n",
      "Collecting pyparsing!=2.0.4,!=2.1.2,!=2.1.6,>=2.0.1\n",
      "  Downloading pyparsing-2.4.6-py2.py3-none-any.whl (67 kB)\n",
      "\u001b[K     |████████████████████████████████| 67 kB 8.0 MB/s  eta 0:00:01\n",
      "\u001b[?25hRequirement already satisfied: python-dateutil>=2.1 in /srv/conda/envs/notebook/lib/python3.7/site-packages (from matplotlib) (2.8.1)\n",
      "Collecting cycler>=0.10\n",
      "  Downloading cycler-0.10.0-py2.py3-none-any.whl (6.5 kB)\n",
      "Requirement already satisfied: setuptools in /srv/conda/envs/notebook/lib/python3.7/site-packages (from kiwisolver>=1.0.1->matplotlib) (45.1.0.post20200119)\n",
      "Requirement already satisfied: six>=1.5 in /srv/conda/envs/notebook/lib/python3.7/site-packages (from python-dateutil>=2.1->matplotlib) (1.14.0)\n",
      "Installing collected packages: kiwisolver, pyparsing, cycler, matplotlib\n",
      "Successfully installed cycler-0.10.0 kiwisolver-1.1.0 matplotlib-3.1.3 pyparsing-2.4.6\n",
      "WARNING: pip is being invoked by an old script wrapper. This will fail in a future version of pip.\n",
      "Please see https://github.com/pypa/pip/issues/5599 for advice on fixing the underlying issue.\n",
      "To avoid this problem you can invoke Python with '-m pip' instead of running pip directly.\n",
      "Collecting pyjet\n",
      "  Downloading pyjet-1.6.0-cp37-cp37m-manylinux2010_x86_64.whl (1.5 MB)\n",
      "\u001b[K     |████████████████████████████████| 1.5 MB 3.2 MB/s eta 0:00:01     |████████████████████████████▉   | 1.4 MB 3.2 MB/s eta 0:00:01\n",
      "\u001b[?25hRequirement already satisfied: numpy>=1.13.3 in /srv/conda/envs/notebook/lib/python3.7/site-packages (from pyjet) (1.18.1)\n",
      "Installing collected packages: pyjet\n",
      "Successfully installed pyjet-1.6.0\n",
      "WARNING: pip is being invoked by an old script wrapper. This will fail in a future version of pip.\n",
      "Please see https://github.com/pypa/pip/issues/5599 for advice on fixing the underlying issue.\n",
      "To avoid this problem you can invoke Python with '-m pip' instead of running pip directly.\n",
      "Collecting pandas\n",
      "  Downloading pandas-1.0.1-cp37-cp37m-manylinux1_x86_64.whl (10.1 MB)\n",
      "\u001b[K     |████████████████████████████████| 10.1 MB 3.6 MB/s eta 0:00:01\n",
      "\u001b[?25hCollecting pytz>=2017.2\n",
      "  Downloading pytz-2019.3-py2.py3-none-any.whl (509 kB)\n",
      "\u001b[K     |████████████████████████████████| 509 kB 62.5 MB/s eta 0:00:01\n",
      "\u001b[?25hRequirement already satisfied: python-dateutil>=2.6.1 in /srv/conda/envs/notebook/lib/python3.7/site-packages (from pandas) (2.8.1)\n",
      "Requirement already satisfied: numpy>=1.13.3 in /srv/conda/envs/notebook/lib/python3.7/site-packages (from pandas) (1.18.1)\n",
      "Requirement already satisfied: six>=1.5 in /srv/conda/envs/notebook/lib/python3.7/site-packages (from python-dateutil>=2.6.1->pandas) (1.14.0)\n",
      "Installing collected packages: pytz, pandas\n",
      "Successfully installed pandas-1.0.1 pytz-2019.3\n",
      "WARNING: pip is being invoked by an old script wrapper. This will fail in a future version of pip.\n",
      "Please see https://github.com/pypa/pip/issues/5599 for advice on fixing the underlying issue.\n",
      "To avoid this problem you can invoke Python with '-m pip' instead of running pip directly.\n",
      "Collecting tables\n",
      "  Downloading tables-3.6.1-cp37-cp37m-manylinux1_x86_64.whl (4.3 MB)\n",
      "\u001b[K     |████████████████████████████████| 4.3 MB 3.1 MB/s eta 0:00:01\n",
      "\u001b[?25hCollecting numexpr>=2.6.2\n",
      "  Downloading numexpr-2.7.1-cp37-cp37m-manylinux1_x86_64.whl (162 kB)\n",
      "\u001b[K     |████████████████████████████████| 162 kB 65.5 MB/s eta 0:00:01\n",
      "\u001b[?25hRequirement already satisfied: numpy>=1.9.3 in /srv/conda/envs/notebook/lib/python3.7/site-packages (from tables) (1.18.1)\n",
      "Installing collected packages: numexpr, tables\n",
      "Successfully installed numexpr-2.7.1 tables-3.6.1\n"
     ]
    }
   ],
   "source": [
    "!pip install h5py\n",
    "!pip install numpy\n",
    "!pip install matplotlib\n",
    "!pip install pyjet\n",
    "!pip install pandas\n",
    "!pip install tables"
   ]
  },
  {
   "cell_type": "code",
   "execution_count": 5,
   "metadata": {},
   "outputs": [],
   "source": [
    "import h5py    \n",
    "import numpy as np \n",
    "import matplotlib.pyplot as plt\n",
    "from pyjet import cluster,DTYPE_PTEPM\n",
    "import pandas as pd"
   ]
  },
  {
   "cell_type": "code",
   "execution_count": 6,
   "metadata": {},
   "outputs": [],
   "source": [
    "fnew = pd.read_hdf(\"./events_anomalydetection_tiny.h5\")"
   ]
  },
  {
   "cell_type": "code",
   "execution_count": 7,
   "metadata": {},
   "outputs": [],
   "source": [
    "events_combined = fnew.T"
   ]
  },
  {
   "cell_type": "code",
   "execution_count": 8,
   "metadata": {},
   "outputs": [
    {
     "data": {
      "text/plain": [
       "(2101, 1000)"
      ]
     },
     "execution_count": 8,
     "metadata": {},
     "output_type": "execute_result"
    }
   ],
   "source": [
    "np.shape(events_combined)"
   ]
  },
  {
   "cell_type": "code",
   "execution_count": 9,
   "metadata": {},
   "outputs": [
    {
     "data": {
      "text/html": [
       "<div>\n",
       "<style scoped>\n",
       "    .dataframe tbody tr th:only-of-type {\n",
       "        vertical-align: middle;\n",
       "    }\n",
       "\n",
       "    .dataframe tbody tr th {\n",
       "        vertical-align: top;\n",
       "    }\n",
       "\n",
       "    .dataframe thead th {\n",
       "        text-align: right;\n",
       "    }\n",
       "</style>\n",
       "<table border=\"1\" class=\"dataframe\">\n",
       "  <thead>\n",
       "    <tr style=\"text-align: right;\">\n",
       "      <th></th>\n",
       "      <th>0</th>\n",
       "      <th>1</th>\n",
       "      <th>2</th>\n",
       "      <th>3</th>\n",
       "      <th>4</th>\n",
       "      <th>5</th>\n",
       "      <th>6</th>\n",
       "      <th>7</th>\n",
       "      <th>8</th>\n",
       "      <th>9</th>\n",
       "      <th>...</th>\n",
       "      <th>990</th>\n",
       "      <th>991</th>\n",
       "      <th>992</th>\n",
       "      <th>993</th>\n",
       "      <th>994</th>\n",
       "      <th>995</th>\n",
       "      <th>996</th>\n",
       "      <th>997</th>\n",
       "      <th>998</th>\n",
       "      <th>999</th>\n",
       "    </tr>\n",
       "  </thead>\n",
       "  <tbody>\n",
       "    <tr>\n",
       "      <th>0</th>\n",
       "      <td>0.324101</td>\n",
       "      <td>0.646304</td>\n",
       "      <td>0.325172</td>\n",
       "      <td>0.290918</td>\n",
       "      <td>0.526330</td>\n",
       "      <td>0.307490</td>\n",
       "      <td>0.305228</td>\n",
       "      <td>0.550740</td>\n",
       "      <td>0.823849</td>\n",
       "      <td>0.361629</td>\n",
       "      <td>...</td>\n",
       "      <td>0.357810</td>\n",
       "      <td>0.628534</td>\n",
       "      <td>5.332857</td>\n",
       "      <td>0.988587</td>\n",
       "      <td>1.076049</td>\n",
       "      <td>0.558454</td>\n",
       "      <td>3.224277</td>\n",
       "      <td>0.308288</td>\n",
       "      <td>0.195123</td>\n",
       "      <td>0.271103</td>\n",
       "    </tr>\n",
       "    <tr>\n",
       "      <th>1</th>\n",
       "      <td>-0.361158</td>\n",
       "      <td>-0.539460</td>\n",
       "      <td>-0.833948</td>\n",
       "      <td>-2.200063</td>\n",
       "      <td>-2.349110</td>\n",
       "      <td>-1.999438</td>\n",
       "      <td>-1.949587</td>\n",
       "      <td>-1.799677</td>\n",
       "      <td>-2.409386</td>\n",
       "      <td>-1.561485</td>\n",
       "      <td>...</td>\n",
       "      <td>-2.148398</td>\n",
       "      <td>-2.398427</td>\n",
       "      <td>-2.148415</td>\n",
       "      <td>-0.970511</td>\n",
       "      <td>-0.421958</td>\n",
       "      <td>-0.667654</td>\n",
       "      <td>-2.394595</td>\n",
       "      <td>-0.381152</td>\n",
       "      <td>-2.203834</td>\n",
       "      <td>-0.945856</td>\n",
       "    </tr>\n",
       "    <tr>\n",
       "      <th>2</th>\n",
       "      <td>2.737669</td>\n",
       "      <td>-1.386258</td>\n",
       "      <td>2.404844</td>\n",
       "      <td>1.630132</td>\n",
       "      <td>-1.745532</td>\n",
       "      <td>2.590663</td>\n",
       "      <td>-2.294166</td>\n",
       "      <td>-3.037725</td>\n",
       "      <td>0.120901</td>\n",
       "      <td>2.277365</td>\n",
       "      <td>...</td>\n",
       "      <td>-1.702027</td>\n",
       "      <td>0.380141</td>\n",
       "      <td>1.640140</td>\n",
       "      <td>-2.217594</td>\n",
       "      <td>0.776023</td>\n",
       "      <td>0.445050</td>\n",
       "      <td>-1.716092</td>\n",
       "      <td>-2.721488</td>\n",
       "      <td>-3.064237</td>\n",
       "      <td>-1.858438</td>\n",
       "    </tr>\n",
       "    <tr>\n",
       "      <th>3</th>\n",
       "      <td>0.409859</td>\n",
       "      <td>0.471293</td>\n",
       "      <td>1.295058</td>\n",
       "      <td>0.565028</td>\n",
       "      <td>0.542491</td>\n",
       "      <td>0.296564</td>\n",
       "      <td>0.611917</td>\n",
       "      <td>0.497987</td>\n",
       "      <td>0.392440</td>\n",
       "      <td>1.756224</td>\n",
       "      <td>...</td>\n",
       "      <td>0.416410</td>\n",
       "      <td>0.433638</td>\n",
       "      <td>1.270250</td>\n",
       "      <td>0.746799</td>\n",
       "      <td>1.130025</td>\n",
       "      <td>0.220177</td>\n",
       "      <td>0.461683</td>\n",
       "      <td>2.390583</td>\n",
       "      <td>0.497103</td>\n",
       "      <td>0.538007</td>\n",
       "    </tr>\n",
       "    <tr>\n",
       "      <th>4</th>\n",
       "      <td>-2.429939</td>\n",
       "      <td>-1.636572</td>\n",
       "      <td>-2.089618</td>\n",
       "      <td>-1.714345</td>\n",
       "      <td>-2.080352</td>\n",
       "      <td>-2.257138</td>\n",
       "      <td>-1.139748</td>\n",
       "      <td>-2.165318</td>\n",
       "      <td>-1.953236</td>\n",
       "      <td>-0.967060</td>\n",
       "      <td>...</td>\n",
       "      <td>-1.258849</td>\n",
       "      <td>-2.026919</td>\n",
       "      <td>-2.122471</td>\n",
       "      <td>-0.851194</td>\n",
       "      <td>-0.353891</td>\n",
       "      <td>-1.109788</td>\n",
       "      <td>-2.102307</td>\n",
       "      <td>-0.784246</td>\n",
       "      <td>-2.253029</td>\n",
       "      <td>-0.759102</td>\n",
       "    </tr>\n",
       "  </tbody>\n",
       "</table>\n",
       "<p>5 rows × 1000 columns</p>\n",
       "</div>"
      ],
      "text/plain": [
       "        0         1         2         3         4         5         6    \\\n",
       "0  0.324101  0.646304  0.325172  0.290918  0.526330  0.307490  0.305228   \n",
       "1 -0.361158 -0.539460 -0.833948 -2.200063 -2.349110 -1.999438 -1.949587   \n",
       "2  2.737669 -1.386258  2.404844  1.630132 -1.745532  2.590663 -2.294166   \n",
       "3  0.409859  0.471293  1.295058  0.565028  0.542491  0.296564  0.611917   \n",
       "4 -2.429939 -1.636572 -2.089618 -1.714345 -2.080352 -2.257138 -1.139748   \n",
       "\n",
       "        7         8         9    ...       990       991       992       993  \\\n",
       "0  0.550740  0.823849  0.361629  ...  0.357810  0.628534  5.332857  0.988587   \n",
       "1 -1.799677 -2.409386 -1.561485  ... -2.148398 -2.398427 -2.148415 -0.970511   \n",
       "2 -3.037725  0.120901  2.277365  ... -1.702027  0.380141  1.640140 -2.217594   \n",
       "3  0.497987  0.392440  1.756224  ...  0.416410  0.433638  1.270250  0.746799   \n",
       "4 -2.165318 -1.953236 -0.967060  ... -1.258849 -2.026919 -2.122471 -0.851194   \n",
       "\n",
       "        994       995       996       997       998       999  \n",
       "0  1.076049  0.558454  3.224277  0.308288  0.195123  0.271103  \n",
       "1 -0.421958 -0.667654 -2.394595 -0.381152 -2.203834 -0.945856  \n",
       "2  0.776023  0.445050 -1.716092 -2.721488 -3.064237 -1.858438  \n",
       "3  1.130025  0.220177  0.461683  2.390583  0.497103  0.538007  \n",
       "4 -0.353891 -1.109788 -2.102307 -0.784246 -2.253029 -0.759102  \n",
       "\n",
       "[5 rows x 1000 columns]"
      ]
     },
     "execution_count": 9,
     "metadata": {},
     "output_type": "execute_result"
    }
   ],
   "source": [
    "events_combined.head()"
   ]
  },
  {
   "cell_type": "code",
   "execution_count": 10,
   "metadata": {},
   "outputs": [
    {
     "data": {
      "text/html": [
       "<div>\n",
       "<style scoped>\n",
       "    .dataframe tbody tr th:only-of-type {\n",
       "        vertical-align: middle;\n",
       "    }\n",
       "\n",
       "    .dataframe tbody tr th {\n",
       "        vertical-align: top;\n",
       "    }\n",
       "\n",
       "    .dataframe thead th {\n",
       "        text-align: right;\n",
       "    }\n",
       "</style>\n",
       "<table border=\"1\" class=\"dataframe\">\n",
       "  <thead>\n",
       "    <tr style=\"text-align: right;\">\n",
       "      <th></th>\n",
       "      <th>0</th>\n",
       "      <th>1</th>\n",
       "      <th>2</th>\n",
       "      <th>3</th>\n",
       "      <th>4</th>\n",
       "      <th>5</th>\n",
       "      <th>6</th>\n",
       "      <th>7</th>\n",
       "      <th>8</th>\n",
       "      <th>9</th>\n",
       "      <th>...</th>\n",
       "      <th>990</th>\n",
       "      <th>991</th>\n",
       "      <th>992</th>\n",
       "      <th>993</th>\n",
       "      <th>994</th>\n",
       "      <th>995</th>\n",
       "      <th>996</th>\n",
       "      <th>997</th>\n",
       "      <th>998</th>\n",
       "      <th>999</th>\n",
       "    </tr>\n",
       "  </thead>\n",
       "  <tbody>\n",
       "    <tr>\n",
       "      <th>2096</th>\n",
       "      <td>0.0</td>\n",
       "      <td>0.0</td>\n",
       "      <td>0.0</td>\n",
       "      <td>0.0</td>\n",
       "      <td>0.0</td>\n",
       "      <td>0.0</td>\n",
       "      <td>0.0</td>\n",
       "      <td>0.0</td>\n",
       "      <td>0.0</td>\n",
       "      <td>0.0</td>\n",
       "      <td>...</td>\n",
       "      <td>0.0</td>\n",
       "      <td>0.0</td>\n",
       "      <td>0.0</td>\n",
       "      <td>0.0</td>\n",
       "      <td>0.0</td>\n",
       "      <td>0.0</td>\n",
       "      <td>0.0</td>\n",
       "      <td>0.0</td>\n",
       "      <td>0.0</td>\n",
       "      <td>0.0</td>\n",
       "    </tr>\n",
       "    <tr>\n",
       "      <th>2097</th>\n",
       "      <td>0.0</td>\n",
       "      <td>0.0</td>\n",
       "      <td>0.0</td>\n",
       "      <td>0.0</td>\n",
       "      <td>0.0</td>\n",
       "      <td>0.0</td>\n",
       "      <td>0.0</td>\n",
       "      <td>0.0</td>\n",
       "      <td>0.0</td>\n",
       "      <td>0.0</td>\n",
       "      <td>...</td>\n",
       "      <td>0.0</td>\n",
       "      <td>0.0</td>\n",
       "      <td>0.0</td>\n",
       "      <td>0.0</td>\n",
       "      <td>0.0</td>\n",
       "      <td>0.0</td>\n",
       "      <td>0.0</td>\n",
       "      <td>0.0</td>\n",
       "      <td>0.0</td>\n",
       "      <td>0.0</td>\n",
       "    </tr>\n",
       "    <tr>\n",
       "      <th>2098</th>\n",
       "      <td>0.0</td>\n",
       "      <td>0.0</td>\n",
       "      <td>0.0</td>\n",
       "      <td>0.0</td>\n",
       "      <td>0.0</td>\n",
       "      <td>0.0</td>\n",
       "      <td>0.0</td>\n",
       "      <td>0.0</td>\n",
       "      <td>0.0</td>\n",
       "      <td>0.0</td>\n",
       "      <td>...</td>\n",
       "      <td>0.0</td>\n",
       "      <td>0.0</td>\n",
       "      <td>0.0</td>\n",
       "      <td>0.0</td>\n",
       "      <td>0.0</td>\n",
       "      <td>0.0</td>\n",
       "      <td>0.0</td>\n",
       "      <td>0.0</td>\n",
       "      <td>0.0</td>\n",
       "      <td>0.0</td>\n",
       "    </tr>\n",
       "    <tr>\n",
       "      <th>2099</th>\n",
       "      <td>0.0</td>\n",
       "      <td>0.0</td>\n",
       "      <td>0.0</td>\n",
       "      <td>0.0</td>\n",
       "      <td>0.0</td>\n",
       "      <td>0.0</td>\n",
       "      <td>0.0</td>\n",
       "      <td>0.0</td>\n",
       "      <td>0.0</td>\n",
       "      <td>0.0</td>\n",
       "      <td>...</td>\n",
       "      <td>0.0</td>\n",
       "      <td>0.0</td>\n",
       "      <td>0.0</td>\n",
       "      <td>0.0</td>\n",
       "      <td>0.0</td>\n",
       "      <td>0.0</td>\n",
       "      <td>0.0</td>\n",
       "      <td>0.0</td>\n",
       "      <td>0.0</td>\n",
       "      <td>0.0</td>\n",
       "    </tr>\n",
       "    <tr>\n",
       "      <th>2100</th>\n",
       "      <td>0.0</td>\n",
       "      <td>0.0</td>\n",
       "      <td>0.0</td>\n",
       "      <td>0.0</td>\n",
       "      <td>1.0</td>\n",
       "      <td>0.0</td>\n",
       "      <td>0.0</td>\n",
       "      <td>0.0</td>\n",
       "      <td>1.0</td>\n",
       "      <td>0.0</td>\n",
       "      <td>...</td>\n",
       "      <td>0.0</td>\n",
       "      <td>0.0</td>\n",
       "      <td>1.0</td>\n",
       "      <td>0.0</td>\n",
       "      <td>0.0</td>\n",
       "      <td>0.0</td>\n",
       "      <td>0.0</td>\n",
       "      <td>0.0</td>\n",
       "      <td>0.0</td>\n",
       "      <td>0.0</td>\n",
       "    </tr>\n",
       "  </tbody>\n",
       "</table>\n",
       "<p>5 rows × 1000 columns</p>\n",
       "</div>"
      ],
      "text/plain": [
       "      0    1    2    3    4    5    6    7    8    9    ...  990  991  992  \\\n",
       "2096  0.0  0.0  0.0  0.0  0.0  0.0  0.0  0.0  0.0  0.0  ...  0.0  0.0  0.0   \n",
       "2097  0.0  0.0  0.0  0.0  0.0  0.0  0.0  0.0  0.0  0.0  ...  0.0  0.0  0.0   \n",
       "2098  0.0  0.0  0.0  0.0  0.0  0.0  0.0  0.0  0.0  0.0  ...  0.0  0.0  0.0   \n",
       "2099  0.0  0.0  0.0  0.0  0.0  0.0  0.0  0.0  0.0  0.0  ...  0.0  0.0  0.0   \n",
       "2100  0.0  0.0  0.0  0.0  1.0  0.0  0.0  0.0  1.0  0.0  ...  0.0  0.0  1.0   \n",
       "\n",
       "      993  994  995  996  997  998  999  \n",
       "2096  0.0  0.0  0.0  0.0  0.0  0.0  0.0  \n",
       "2097  0.0  0.0  0.0  0.0  0.0  0.0  0.0  \n",
       "2098  0.0  0.0  0.0  0.0  0.0  0.0  0.0  \n",
       "2099  0.0  0.0  0.0  0.0  0.0  0.0  0.0  \n",
       "2100  0.0  0.0  0.0  0.0  0.0  0.0  0.0  \n",
       "\n",
       "[5 rows x 1000 columns]"
      ]
     },
     "execution_count": 10,
     "metadata": {},
     "output_type": "execute_result"
    }
   ],
   "source": [
    "events_combined.tail()"
   ]
  },
  {
   "cell_type": "code",
   "execution_count": 11,
   "metadata": {},
   "outputs": [],
   "source": [
    "hadrons = pd.DataFrame(\n",
    "    columns=[\n",
    "        'pT',\n",
    "        'eta',\n",
    "        'phi',\n",
    "        \"isSignal\",\n",
    "        \"isBackground\",\n",
    "        \"nEvent\",\n",
    "    ]\n",
    ")"
   ]
  },
  {
   "cell_type": "code",
   "execution_count": 12,
   "metadata": {},
   "outputs": [],
   "source": [
    "ip=0\n",
    "nEvents = 50\n",
    "for i in range(nEvents): #np.shape(events_combined)[1]//10):\n",
    "    isSignal = events_combined[i][2100] == True\n",
    "    for j in range(700):\n",
    "        if ( events_combined[i][j*3] >0):\n",
    "            hadrons.loc[ip] =[\n",
    "                    events_combined[i][j*3],\n",
    "                    events_combined[i][j*3+1],\n",
    "                    events_combined[i][j*3+2],\n",
    "                    isSignal ,\n",
    "                    not isSignal,\n",
    "                    i,\n",
    "                ]\n",
    "            ip+=1\n",
    "            pass\n",
    "        pass\n",
    "    pass"
   ]
  },
  {
   "cell_type": "code",
   "execution_count": 13,
   "metadata": {},
   "outputs": [],
   "source": [
    "hadrons[(hadrons[\"isBackground\"] == True) & (hadrons[\"nEvent\"] == 0)]\n",
    "\n",
    "ptSignal = hadrons[(hadrons[\"isSignal\"] == True)]\n",
    "ptBackground = hadrons[(hadrons[\"isBackground\"] == True)]"
   ]
  },
  {
   "cell_type": "code",
   "execution_count": 14,
   "metadata": {},
   "outputs": [
    {
     "data": {
      "image/png": "[encoded data removed]",
      "text/plain": [
       "<Figure size 432x288 with 15 Axes>"
      ]
     },
     "metadata": {
      "needs_background": "light"
     },
     "output_type": "display_data"
    }
   ],
   "source": [
    "# hadrons[(hadrons[\"nEvent\"] == 7)][\"eta\"].plot(kind=\"hist\")\n",
    "\n",
    "# for i in range(1, 12):\n",
    "#     plt.subplot(3, 4, i)\n",
    "#     plt.hist(hadrons[(hadrons[\"nEvent\"] == i)][\"eta\"])\n",
    "\n",
    "fig = plt.figure()\n",
    "fig.subplots_adjust(hspace=0.6, wspace=0.6)\n",
    "for i in range(1, 16):\n",
    "    ax = fig.add_subplot(4, 4, i)\n",
    "    ax.hist(hadrons[(hadrons[\"nEvent\"] == i)][\"eta\"])"
   ]
  },
  {
   "cell_type": "code",
   "execution_count": 15,
   "metadata": {},
   "outputs": [
    {
     "name": "stdout",
     "output_type": "stream",
     "text": [
      "(814,)\n",
      "(814,)\n",
      "nBins 15\n"
     ]
    },
    {
     "data": {
      "text/plain": [
       "<matplotlib.legend.Legend at 0x7fae84ed6f50>"
      ]
     },
     "execution_count": 15,
     "metadata": {},
     "output_type": "execute_result"
    },
    {
     "data": {
      "image/png": "[encoded data removed]",
      "text/plain": [
       "<Figure size 432x288 with 1 Axes>"
      ]
     },
     "metadata": {
      "needs_background": "light"
     },
     "output_type": "display_data"
    }
   ],
   "source": [
    "nSamples = 814\n",
    "nBins = 15 #int(1 + np.log(nSamples))\n",
    "\n",
    "signalHist = hadrons[(hadrons[\"isSignal\"] == True)][\"pT\"].head(nSamples)\n",
    "backgroundHist = hadrons[(hadrons[\"isBackground\"] == True)][\"pT\"].head(nSamples)\n",
    "\n",
    "\n",
    "print(np.shape(signalHist))\n",
    "print(np.shape(backgroundHist))\n",
    "print(\"nBins {0}\".format(nBins))\n",
    "plt.hist(signalHist, alpha=0.9, label=\"signal\", bins=nBins)\n",
    "plt.hist(backgroundHist, alpha=0.5, label=\"background\", bins=nBins)\n",
    "plt.legend()"
   ]
  },
  {
   "cell_type": "code",
   "execution_count": 19,
   "metadata": {},
   "outputs": [
    {
     "name": "stdout",
     "output_type": "stream",
     "text": [
      "nSignal 93   | nBackground 907\n"
     ]
    }
   ],
   "source": [
    "nBackground = 0\n",
    "nSignal = 0\n",
    "\n",
    "for i in range(np.shape(events_combined)[1]):\n",
    "    issignal = events_combined[i][2100]\n",
    "\n",
    "    if (issignal):\n",
    "        nSignal +=1\n",
    "        \n",
    "    elif not issignal:\n",
    "        nBackground +=1\n",
    "    continue\n",
    "\n",
    "print(\"nSignal {0}   | nBackground {1}\".format(nSignal, nBackground))"
   ]
  },
  {
   "cell_type": "code",
   "execution_count": 20,
   "metadata": {},
   "outputs": [
    {
     "name": "stdout",
     "output_type": "stream",
     "text": [
      "background 0\n",
      "background 100\n",
      "background 200\n",
      "background 300\n",
      "background 400\n",
      "background 500\n",
      "background 600\n",
      "background 700\n",
      "background 800\n",
      "background 900\n",
      "signal 0\n",
      "signal 100\n",
      "signal 200\n",
      "signal 300\n",
      "signal 400\n",
      "signal 500\n",
      "signal 600\n",
      "signal 700\n",
      "signal 800\n",
      "signal 900\n"
     ]
    }
   ],
   "source": [
    "#Now, let's cluster some jets!\n",
    "leadpT = {}\n",
    "alljets = {}\n",
    "for mytype in ['background','signal']:\n",
    "    leadpT[mytype]=[]\n",
    "    alljets[mytype]=[]\n",
    "    for i in range(np.shape(events_combined)[1]):\n",
    "        if (i%100==0):\n",
    "            print(mytype,i)\n",
    "            pass\n",
    "        issignal = events_combined[i][2100]\n",
    "        if (mytype=='background' and issignal):\n",
    "            continue\n",
    "        elif (mytype=='signal' and issignal==0):\n",
    "             continue\n",
    "        pseudojets_input = np.zeros(len([x for x in events_combined[i][::3] if x > 0]), dtype=DTYPE_PTEPM)\n",
    "        for j in range(700):\n",
    "            if (events_combined[i][j*3]>0):\n",
    "                pseudojets_input[j]['pT'] = events_combined[i][j*3]\n",
    "                pseudojets_input[j]['eta'] = events_combined[i][j*3+1]\n",
    "                pseudojets_input[j]['phi'] = events_combined[i][j*3+2]\n",
    "                pass\n",
    "            pass\n",
    "        sequence = cluster(pseudojets_input, R=1.0, p=-1)\n",
    "        jets = sequence.inclusive_jets(ptmin=20)\n",
    "        leadpT[mytype] += [jets[0].pt]\n",
    "        alljets[mytype] += [jets]\n",
    "        pass"
   ]
  },
  {
   "cell_type": "code",
   "execution_count": 21,
   "metadata": {},
   "outputs": [
    {
     "data": {
      "image/png": "[encoded data removed]",
      "text/plain": [
       "<Figure size 432x288 with 1 Axes>"
      ]
     },
     "metadata": {
      "needs_background": "light"
     },
     "output_type": "display_data"
    },
    {
     "data": {
      "text/plain": [
       "<Figure size 432x288 with 0 Axes>"
      ]
     },
     "metadata": {},
     "output_type": "display_data"
    }
   ],
   "source": [
    "#Let's make some very simple plots.\n",
    "fig = plt.figure()\n",
    "ax = fig.add_subplot(1, 1, 1)\n",
    "n,b,p = plt.hist(leadpT['background'], bins=50, facecolor='r', alpha=0.2,label='background')\n",
    "plt.hist(leadpT['signal'], bins=b, facecolor='b', alpha=0.2,label='signal')\n",
    "plt.xlabel(r'Leading jet $p_{T}$ [GeV]')\n",
    "plt.ylabel('Number of events')\n",
    "plt.legend(loc='upper right')\n",
    "plt.show()\n",
    "plt.savefig(\"leadjetpt.pdf\")"
   ]
  },
  {
   "cell_type": "code",
   "execution_count": 22,
   "metadata": {},
   "outputs": [],
   "source": [
    "mjj={}\n",
    "for mytype in ['background','signal']:\n",
    "    mjj[mytype]=[]\n",
    "    for k in range(len(alljets[mytype])):\n",
    "        E = alljets[mytype][k][0].e+alljets[mytype][k][1].e\n",
    "        px = alljets[mytype][k][0].px+alljets[mytype][k][1].px\n",
    "        py = alljets[mytype][k][0].py+alljets[mytype][k][1].py\n",
    "        pz = alljets[mytype][k][0].pz+alljets[mytype][k][1].pz\n",
    "        mjj[mytype]+=[(E**2-px**2-py**2-pz**2)**0.5]\n",
    "        pass\n",
    "    pass"
   ]
  },
  {
   "cell_type": "code",
   "execution_count": 23,
   "metadata": {},
   "outputs": [
    {
     "data": {
      "image/png": "[encoded data removed]",
      "text/plain": [
       "<Figure size 432x288 with 1 Axes>"
      ]
     },
     "metadata": {
      "needs_background": "light"
     },
     "output_type": "display_data"
    },
    {
     "data": {
      "text/plain": [
       "<Figure size 432x288 with 0 Axes>"
      ]
     },
     "metadata": {},
     "output_type": "display_data"
    }
   ],
   "source": [
    "fig = plt.figure()\n",
    "ax = fig.add_subplot(1, 1, 1)\n",
    "n,b,p = plt.hist(mjj['background'], bins=50, facecolor='r', alpha=0.2,label='background')\n",
    "plt.hist(mjj['signal'], bins=b, facecolor='b', alpha=0.2,label='signal')\n",
    "plt.xlabel(r'$m_{JJ}$ [GeV]')\n",
    "plt.ylabel('Number of events')\n",
    "plt.legend(loc='upper right')\n",
    "plt.show()\n",
    "plt.savefig(\"mjj.pdf\")"
   ]
  },
  {
   "cell_type": "code",
   "execution_count": null,
   "metadata": {},
   "outputs": [],
   "source": []
  }
 ],
 "metadata": {
  "kernelspec": {
   "display_name": "Python 3",
   "language": "python",
   "name": "python3"
  },
  "language_info": {
   "codemirror_mode": {
    "name": "ipython",
    "version": 3
   },
   "file_extension": ".py",
   "mimetype": "text/x-python",
   "name": "python",
   "nbconvert_exporter": "python",
   "pygments_lexer": "ipython3",
   "version": "3.7.6"
  }
 },
 "nbformat": 4,
 "nbformat_minor": 2
}
